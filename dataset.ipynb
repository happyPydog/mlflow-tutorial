{
 "cells": [
  {
   "cell_type": "code",
   "execution_count": 30,
   "metadata": {},
   "outputs": [],
   "source": [
    "import abc\n",
    "import enum\n",
    "import uuid\n",
    "import typing as t\n",
    "import numpy as np\n",
    "import pandas as pd\n",
    "from rich import print\n",
    "\n",
    "\n",
    "class Columns(str, enum.Enum):\n",
    "    ID = \"id\"\n",
    "    TIMESTAMP = \"timestamp\"\n",
    "\n",
    "\n",
    "class BaseDataset:\n",
    "\n",
    "    def __init__(self, seed: int | None = None, **kwargs):\n",
    "        self.seed = seed\n",
    "        if seed is not None:\n",
    "            np.random.seed(seed)\n",
    "\n",
    "    @abc.abstractmethod\n",
    "    def generate(self) -> pd.DataFrame:\n",
    "        \"\"\"\n",
    "        Generate pandas dataframe.\n",
    "        \"\"\"\n",
    "        raise NotImplementedError\n",
    "\n",
    "    def _generate_ids(self, sample_size: int) -> list[str]:\n",
    "        return [str(uuid.uuid4()) for _ in range(sample_size)]\n",
    "\n",
    "\n",
    "class TimeSeriesDataset(BaseDataset):\n",
    "    \"\"\"\n",
    "    Engagement score dataset.\n",
    "    \"\"\"\n",
    "\n",
    "    key_column = Columns.ID\n",
    "    timestamp_column = Columns.TIMESTAMP\n",
    "\n",
    "    def __init__(\n",
    "        self, sample_size: int, feature_size: int, start_date: str, end_date: str, missing_ratio: float, seed: int = 42\n",
    "    ):\n",
    "        super().__init__(seed)\n",
    "        self.sample_size = sample_size\n",
    "        self.feature_size = feature_size\n",
    "        self.start_date = start_date\n",
    "        self.end_date = end_date\n",
    "        self.missing_ratio = missing_ratio\n",
    "\n",
    "    def generate(self) -> pd.DataFrame:\n",
    "        \"\"\"\n",
    "        Generate time series dataset.\n",
    "        The generated data type only contain numerical data for each column exclude key column.\n",
    "        especially, the timestamp column is date type.\n",
    "        \"\"\"\n",
    "        ids = self._generate_ids(self.sample_size)\n",
    "        date_range = pd.date_range(start=self.start_date, end=self.end_date)\n",
    "        data: list[dict[str, t.Any]] = [\n",
    "            {\n",
    "                **{self.key_column.value: id_, self.timestamp_column.value: timestamp},\n",
    "                **{\n",
    "                    f\"feature_{idx}\": np.nan if np.random.rand() < self.missing_ratio else np.random.randn()\n",
    "                    for idx in range(1, self.feature_size + 1)\n",
    "                },\n",
    "            }\n",
    "            for id_ in ids\n",
    "            for timestamp in date_range\n",
    "        ]\n",
    "        return pd.DataFrame(data)\n",
    "\n",
    "\n",
    "class CategoryDataset(BaseDataset):\n",
    "    \"\"\"\n",
    "    Customer profile dataset.\n",
    "    \"\"\"\n",
    "\n",
    "    key_column = Columns.ID\n",
    "\n",
    "    def __init__(self, sample_size: int, feature_size: int, missing_ratio: float, seed: int = 42):\n",
    "        super().__init__(seed)\n",
    "        self.sample_size = sample_size\n",
    "        self.feature_size = feature_size\n",
    "        self.missing_ratio = missing_ratio\n",
    "\n",
    "    def generate(self) -> pd.DataFrame:\n",
    "        \"\"\"\n",
    "        Generate category dataset.\n",
    "        The generated data type only contain catagorical data for each column exclude key column.\n",
    "        \"\"\"\n",
    "        return pd.DataFrame()"
   ]
  },
  {
   "cell_type": "code",
   "execution_count": 31,
   "metadata": {},
   "outputs": [],
   "source": [
    "sample_size = 100\n",
    "feature_size = 10\n",
    "start_date = \"2020-01-01\"\n",
    "end_date = \"2020-12-31\"\n",
    "missing_ratio = 0.1\n",
    "time_series_dataset = TimeSeriesDataset(sample_size, feature_size, start_date, end_date, missing_ratio).generate()"
   ]
  },
  {
   "cell_type": "code",
   "execution_count": 32,
   "metadata": {},
   "outputs": [
    {
     "data": {
      "text/plain": [
       "100"
      ]
     },
     "execution_count": 32,
     "metadata": {},
     "output_type": "execute_result"
    }
   ],
   "source": [
    "len(time_series_dataset.id.unique())"
   ]
  },
  {
   "cell_type": "code",
   "execution_count": 33,
   "metadata": {},
   "outputs": [
    {
     "data": {
      "text/plain": [
       "366"
      ]
     },
     "execution_count": 33,
     "metadata": {},
     "output_type": "execute_result"
    }
   ],
   "source": [
    "len(time_series_dataset.timestamp.unique())"
   ]
  },
  {
   "cell_type": "code",
   "execution_count": null,
   "metadata": {},
   "outputs": [],
   "source": []
  }
 ],
 "metadata": {
  "kernelspec": {
   "display_name": ".venv",
   "language": "python",
   "name": "python3"
  },
  "language_info": {
   "codemirror_mode": {
    "name": "ipython",
    "version": 3
   },
   "file_extension": ".py",
   "mimetype": "text/x-python",
   "name": "python",
   "nbconvert_exporter": "python",
   "pygments_lexer": "ipython3",
   "version": "3.11.4"
  }
 },
 "nbformat": 4,
 "nbformat_minor": 2
}
